{
  "nbformat": 4,
  "nbformat_minor": 0,
  "metadata": {
    "colab": {
      "name": "TimeSeries_LSTM.ipynb",
      "provenance": []
    },
    "kernelspec": {
      "name": "python3",
      "display_name": "Python 3"
    },
    "language_info": {
      "name": "python"
    }
  },
  "cells": [
    {
      "cell_type": "code",
      "metadata": {
        "id": "0PG-iMnoeI1R"
      },
      "source": [
        "import pandas as pd\n",
        "import numpy as np\n",
        "import matplotlib.pyplot as plt\n"
      ],
      "execution_count": 57,
      "outputs": []
    },
    {
      "cell_type": "code",
      "metadata": {
        "colab": {
          "base_uri": "https://localhost:8080/",
          "height": 376
        },
        "id": "PCG9y4ajeVLn",
        "outputId": "bade3859-3ac9-4f65-d0c0-9d639f1e5551"
      },
      "source": [
        "df = pd.read_csv(\"Electric_Production.csv\")\n",
        "df = df.set_index(\"DATE\")\n",
        "df.index = pd.to_datetime(df.index, format='%d-%m-%Y')\n",
        "# df = df.groupby(pd.Grouper(freq='m')).mean()\n",
        "df.info()\n",
        "df.head()"
      ],
      "execution_count": 58,
      "outputs": [
        {
          "output_type": "stream",
          "name": "stdout",
          "text": [
            "<class 'pandas.core.frame.DataFrame'>\n",
            "DatetimeIndex: 397 entries, 1985-01-01 to 2018-01-01\n",
            "Data columns (total 1 columns):\n",
            " #   Column  Non-Null Count  Dtype  \n",
            "---  ------  --------------  -----  \n",
            " 0   Value   397 non-null    float64\n",
            "dtypes: float64(1)\n",
            "memory usage: 6.2 KB\n"
          ]
        },
        {
          "output_type": "execute_result",
          "data": {
            "text/html": [
              "<div>\n",
              "<style scoped>\n",
              "    .dataframe tbody tr th:only-of-type {\n",
              "        vertical-align: middle;\n",
              "    }\n",
              "\n",
              "    .dataframe tbody tr th {\n",
              "        vertical-align: top;\n",
              "    }\n",
              "\n",
              "    .dataframe thead th {\n",
              "        text-align: right;\n",
              "    }\n",
              "</style>\n",
              "<table border=\"1\" class=\"dataframe\">\n",
              "  <thead>\n",
              "    <tr style=\"text-align: right;\">\n",
              "      <th></th>\n",
              "      <th>Value</th>\n",
              "    </tr>\n",
              "    <tr>\n",
              "      <th>DATE</th>\n",
              "      <th></th>\n",
              "    </tr>\n",
              "  </thead>\n",
              "  <tbody>\n",
              "    <tr>\n",
              "      <th>1985-01-01</th>\n",
              "      <td>72.5052</td>\n",
              "    </tr>\n",
              "    <tr>\n",
              "      <th>1985-01-02</th>\n",
              "      <td>70.6720</td>\n",
              "    </tr>\n",
              "    <tr>\n",
              "      <th>1985-01-03</th>\n",
              "      <td>62.4502</td>\n",
              "    </tr>\n",
              "    <tr>\n",
              "      <th>1985-01-04</th>\n",
              "      <td>57.4714</td>\n",
              "    </tr>\n",
              "    <tr>\n",
              "      <th>1985-01-05</th>\n",
              "      <td>55.3151</td>\n",
              "    </tr>\n",
              "  </tbody>\n",
              "</table>\n",
              "</div>"
            ],
            "text/plain": [
              "              Value\n",
              "DATE               \n",
              "1985-01-01  72.5052\n",
              "1985-01-02  70.6720\n",
              "1985-01-03  62.4502\n",
              "1985-01-04  57.4714\n",
              "1985-01-05  55.3151"
            ]
          },
          "metadata": {},
          "execution_count": 58
        }
      ]
    },
    {
      "cell_type": "code",
      "metadata": {
        "colab": {
          "base_uri": "https://localhost:8080/",
          "height": 285
        },
        "id": "lvfJ5bNYeasF",
        "outputId": "4160a742-b7e3-4a4e-ea4a-161bb35cc05d"
      },
      "source": [
        "#Ploting temperature in Celsius degrees\n",
        "print(\"Number of measurements: \"+str(len(df['Value'])))\n",
        "df.plot(y='Value', rot=25);"
      ],
      "execution_count": 59,
      "outputs": [
        {
          "output_type": "stream",
          "name": "stdout",
          "text": [
            "Number of measurements: 397\n"
          ]
        },
        {
          "output_type": "display_data",
          "data": {
            "image/png": "[encoded data removed]",
            "text/plain": [
              "<Figure size 432x288 with 1 Axes>"
            ]
          },
          "metadata": {
            "needs_background": "light"
          }
        }
      ]
    },
    {
      "cell_type": "code",
      "metadata": {
        "colab": {
          "base_uri": "https://localhost:8080/"
        },
        "id": "_4h_prCBejZK",
        "outputId": "0273fc0a-57bd-4c4e-ff20-c2ca9866a6df"
      },
      "source": [
        "dftm = df['Value']\n",
        "print(dftm)"
      ],
      "execution_count": 60,
      "outputs": [
        {
          "output_type": "stream",
          "name": "stdout",
          "text": [
            "DATE\n",
            "1985-01-01     72.5052\n",
            "1985-01-02     70.6720\n",
            "1985-01-03     62.4502\n",
            "1985-01-04     57.4714\n",
            "1985-01-05     55.3151\n",
            "                ...   \n",
            "2017-01-09     98.6154\n",
            "2017-01-10     93.6137\n",
            "2017-01-11     97.3359\n",
            "2017-01-12    114.7212\n",
            "2018-01-01    129.4048\n",
            "Name: Value, Length: 397, dtype: float64\n"
          ]
        }
      ]
    },
    {
      "cell_type": "code",
      "metadata": {
        "colab": {
          "base_uri": "https://localhost:8080/",
          "height": 265
        },
        "id": "PWkS5vHQexXS",
        "outputId": "31b64c13-82c4-450c-cd74-782023d40661"
      },
      "source": [
        "# Spliting the last 2 years for test\n",
        "train = dftm[:12*27].values\n",
        "plt.plot(np.arange(len(train)),train)\n",
        "train = train.reshape((len(train), 1))\n",
        "test = dftm[12*27:].values\n",
        "plt.plot(np.arange(len(train), len(train)+len(test)),test)\n",
        "test = test.reshape((len(test), 1))\n",
        "#plt.plot(np.arange(len(df3d)),df3d)"
      ],
      "execution_count": 61,
      "outputs": [
        {
          "output_type": "display_data",
          "data": {
            "image/png": "[encoded data removed]",
            "text/plain": [
              "<Figure size 432x288 with 1 Axes>"
            ]
          },
          "metadata": {
            "needs_background": "light"
          }
        }
      ]
    },
    {
      "cell_type": "code",
      "metadata": {
        "id": "ENMdSwh9fFNl"
      },
      "source": [
        "from tensorflow.keras.preprocessing.sequence import TimeseriesGenerator"
      ],
      "execution_count": 62,
      "outputs": []
    },
    {
      "cell_type": "code",
      "metadata": {
        "id": "ghUdbgYmfO1u"
      },
      "source": [
        "length = 12\n",
        "generator = TimeseriesGenerator(train,train,length=length, batch_size=1)\n",
        "validation_generator = TimeseriesGenerator(test,test,length=length, batch_size=1)"
      ],
      "execution_count": 63,
      "outputs": []
    },
    {
      "cell_type": "code",
      "metadata": {
        "colab": {
          "base_uri": "https://localhost:8080/"
        },
        "id": "RGjvNEdYfSiG",
        "outputId": "4a21b1e9-f377-44e7-dc89-f842b76ecd06"
      },
      "source": [
        "print(train[:length+1])"
      ],
      "execution_count": 64,
      "outputs": [
        {
          "output_type": "stream",
          "name": "stdout",
          "text": [
            "[[72.5052]\n",
            " [70.672 ]\n",
            " [62.4502]\n",
            " [57.4714]\n",
            " [55.3151]\n",
            " [58.0904]\n",
            " [62.6202]\n",
            " [63.2485]\n",
            " [60.5846]\n",
            " [56.3154]\n",
            " [58.0005]\n",
            " [68.7145]\n",
            " [73.3057]]\n"
          ]
        }
      ]
    },
    {
      "cell_type": "code",
      "metadata": {
        "colab": {
          "base_uri": "https://localhost:8080/"
        },
        "id": "2edYz9XkfV_a",
        "outputId": "b32afc62-e791-4e52-e237-84331ae8aca3"
      },
      "source": [
        "i=0\n",
        "for x,y in generator:\n",
        "    print(x)\n",
        "    print(y)\n",
        "    i = i + 1\n",
        "    if i == 2:\n",
        "        break"
      ],
      "execution_count": 65,
      "outputs": [
        {
          "output_type": "stream",
          "name": "stdout",
          "text": [
            "[[[72.5052]\n",
            "  [70.672 ]\n",
            "  [62.4502]\n",
            "  [57.4714]\n",
            "  [55.3151]\n",
            "  [58.0904]\n",
            "  [62.6202]\n",
            "  [63.2485]\n",
            "  [60.5846]\n",
            "  [56.3154]\n",
            "  [58.0005]\n",
            "  [68.7145]]]\n",
            "[[73.3057]]\n",
            "[[[70.672 ]\n",
            "  [62.4502]\n",
            "  [57.4714]\n",
            "  [55.3151]\n",
            "  [58.0904]\n",
            "  [62.6202]\n",
            "  [63.2485]\n",
            "  [60.5846]\n",
            "  [56.3154]\n",
            "  [58.0005]\n",
            "  [68.7145]\n",
            "  [73.3057]]]\n",
            "[[67.9869]]\n"
          ]
        }
      ]
    },
    {
      "cell_type": "markdown",
      "metadata": {
        "id": "F9iLRWicgCSi"
      },
      "source": [
        "# Creating LSTM model\n"
      ]
    },
    {
      "cell_type": "code",
      "metadata": {
        "id": "MZad8yZHfp2_"
      },
      "source": [
        "from tensorflow.keras.models import Sequential\n",
        "from tensorflow.keras.layers import Dense, LSTM, GRU\n",
        "from tensorflow.keras.callbacks import EarlyStopping, ModelCheckpoint"
      ],
      "execution_count": 66,
      "outputs": []
    },
    {
      "cell_type": "code",
      "metadata": {
        "colab": {
          "base_uri": "https://localhost:8080/"
        },
        "id": "UYObGEEEgHo7",
        "outputId": "e159691a-e4e5-4cd7-c1bb-dee932a93cd8"
      },
      "source": [
        "model = Sequential()\n",
        "model.add(LSTM(10, activation='relu', input_shape=(length,1)))\n",
        "# model.add(GRU(20, activation='relu', return_sequences=True, input_shape=(length,1)))\n",
        "# model.add(GRU(10, activation='relu'))\n",
        "model.add(Dense(1))\n",
        "model.compile(optimizer='adam', loss='mse')\n",
        "model.summary()"
      ],
      "execution_count": 67,
      "outputs": [
        {
          "output_type": "stream",
          "name": "stdout",
          "text": [
            "Model: \"sequential_4\"\n",
            "_________________________________________________________________\n",
            " Layer (type)                Output Shape              Param #   \n",
            "=================================================================\n",
            " lstm_4 (LSTM)               (None, 10)                480       \n",
            "                                                                 \n",
            " dense_4 (Dense)             (None, 1)                 11        \n",
            "                                                                 \n",
            "=================================================================\n",
            "Total params: 491\n",
            "Trainable params: 491\n",
            "Non-trainable params: 0\n",
            "_________________________________________________________________\n"
          ]
        }
      ]
    },
    {
      "cell_type": "code",
      "metadata": {
        "colab": {
          "base_uri": "https://localhost:8080/"
        },
        "id": "8M8CJOlMgRyb",
        "outputId": "75816eef-77b1-4ce3-ebec-a83ecb49d422"
      },
      "source": [
        "epochs = 100\n",
        "early_stop = EarlyStopping(monitor='val_loss',patience=10)\n",
        "ckpt = ModelCheckpoint('model6.hdf5', save_best_only=True, monitor='val_loss', verbose=1)\n",
        "history = model.fit_generator(\n",
        "    generator,\n",
        "    steps_per_epoch=len(generator),\n",
        "    epochs=epochs,\n",
        "    validation_data=validation_generator,\n",
        "    callbacks=[early_stop, ckpt])"
      ],
      "execution_count": 68,
      "outputs": [
        {
          "output_type": "stream",
          "name": "stderr",
          "text": [
            "/usr/local/lib/python3.7/dist-packages/ipykernel_launcher.py:9: UserWarning: `Model.fit_generator` is deprecated and will be removed in a future version. Please use `Model.fit`, which supports generators.\n",
            "  if __name__ == '__main__':\n"
          ]
        },
        {
          "output_type": "stream",
          "name": "stdout",
          "text": [
            "Epoch 1/100\n",
            "304/312 [============================>.] - ETA: 0s - loss: 7447.6265\n",
            "Epoch 00001: val_loss improved from inf to 5360.37500, saving model to model6.hdf5\n",
            "312/312 [==============================] - 3s 6ms/step - loss: 7370.9790 - val_loss: 5360.3750\n",
            "Epoch 2/100\n",
            "305/312 [============================>.] - ETA: 0s - loss: 4391.9624\n",
            "Epoch 00002: val_loss did not improve from 5360.37500\n",
            "312/312 [==============================] - 2s 6ms/step - loss: 4426.0693 - val_loss: 7606.8208\n",
            "Epoch 3/100\n",
            "309/312 [============================>.] - ETA: 0s - loss: 2074.6255\n",
            "Epoch 00003: val_loss improved from 5360.37500 to 644.44391, saving model to model6.hdf5\n",
            "312/312 [==============================] - 2s 6ms/step - loss: 2056.9805 - val_loss: 644.4439\n",
            "Epoch 4/100\n",
            "308/312 [============================>.] - ETA: 0s - loss: 196.6058\n",
            "Epoch 00004: val_loss improved from 644.44391 to 238.21014, saving model to model6.hdf5\n",
            "312/312 [==============================] - 2s 6ms/step - loss: 196.5981 - val_loss: 238.2101\n",
            "Epoch 5/100\n",
            "306/312 [============================>.] - ETA: 0s - loss: 93.7805\n",
            "Epoch 00005: val_loss improved from 238.21014 to 134.13158, saving model to model6.hdf5\n",
            "312/312 [==============================] - 2s 6ms/step - loss: 92.8092 - val_loss: 134.1316\n",
            "Epoch 6/100\n",
            "306/312 [============================>.] - ETA: 0s - loss: 65.7810\n",
            "Epoch 00006: val_loss improved from 134.13158 to 117.79418, saving model to model6.hdf5\n",
            "312/312 [==============================] - 2s 6ms/step - loss: 66.1695 - val_loss: 117.7942\n",
            "Epoch 7/100\n",
            "308/312 [============================>.] - ETA: 0s - loss: 59.4186\n",
            "Epoch 00007: val_loss improved from 117.79418 to 104.10052, saving model to model6.hdf5\n",
            "312/312 [==============================] - 2s 6ms/step - loss: 59.1950 - val_loss: 104.1005\n",
            "Epoch 8/100\n",
            "307/312 [============================>.] - ETA: 0s - loss: 56.6040\n",
            "Epoch 00008: val_loss improved from 104.10052 to 99.11002, saving model to model6.hdf5\n",
            "312/312 [==============================] - 2s 6ms/step - loss: 56.5917 - val_loss: 99.1100\n",
            "Epoch 9/100\n",
            "308/312 [============================>.] - ETA: 0s - loss: 54.1621\n",
            "Epoch 00009: val_loss improved from 99.11002 to 95.30728, saving model to model6.hdf5\n",
            "312/312 [==============================] - 2s 6ms/step - loss: 55.4896 - val_loss: 95.3073\n",
            "Epoch 10/100\n",
            "306/312 [============================>.] - ETA: 0s - loss: 52.8577\n",
            "Epoch 00010: val_loss improved from 95.30728 to 92.56446, saving model to model6.hdf5\n",
            "312/312 [==============================] - 2s 6ms/step - loss: 52.6912 - val_loss: 92.5645\n",
            "Epoch 11/100\n",
            "312/312 [==============================] - ETA: 0s - loss: 48.2946\n",
            "Epoch 00011: val_loss improved from 92.56446 to 86.22509, saving model to model6.hdf5\n",
            "312/312 [==============================] - 2s 6ms/step - loss: 48.2946 - val_loss: 86.2251\n",
            "Epoch 12/100\n",
            "306/312 [============================>.] - ETA: 0s - loss: 42.7737\n",
            "Epoch 00012: val_loss improved from 86.22509 to 62.18795, saving model to model6.hdf5\n",
            "312/312 [==============================] - 2s 6ms/step - loss: 42.2887 - val_loss: 62.1880\n",
            "Epoch 13/100\n",
            "311/312 [============================>.] - ETA: 0s - loss: 30.2603\n",
            "Epoch 00013: val_loss improved from 62.18795 to 59.85625, saving model to model6.hdf5\n",
            "312/312 [==============================] - 2s 6ms/step - loss: 30.2428 - val_loss: 59.8563\n",
            "Epoch 14/100\n",
            "309/312 [============================>.] - ETA: 0s - loss: 22.6594\n",
            "Epoch 00014: val_loss improved from 59.85625 to 32.73468, saving model to model6.hdf5\n",
            "312/312 [==============================] - 2s 6ms/step - loss: 22.6699 - val_loss: 32.7347\n",
            "Epoch 15/100\n",
            "304/312 [============================>.] - ETA: 0s - loss: 20.5530\n",
            "Epoch 00015: val_loss improved from 32.73468 to 29.91307, saving model to model6.hdf5\n",
            "312/312 [==============================] - 2s 6ms/step - loss: 20.1914 - val_loss: 29.9131\n",
            "Epoch 16/100\n",
            "312/312 [==============================] - ETA: 0s - loss: 15.8263\n",
            "Epoch 00016: val_loss improved from 29.91307 to 25.99385, saving model to model6.hdf5\n",
            "312/312 [==============================] - 2s 6ms/step - loss: 15.8263 - val_loss: 25.9939\n",
            "Epoch 17/100\n",
            "311/312 [============================>.] - ETA: 0s - loss: 15.3551\n",
            "Epoch 00017: val_loss did not improve from 25.99385\n",
            "312/312 [==============================] - 2s 6ms/step - loss: 15.3352 - val_loss: 34.6252\n",
            "Epoch 18/100\n",
            "304/312 [============================>.] - ETA: 0s - loss: 13.7219\n",
            "Epoch 00018: val_loss improved from 25.99385 to 24.81711, saving model to model6.hdf5\n",
            "312/312 [==============================] - 2s 6ms/step - loss: 13.7203 - val_loss: 24.8171\n",
            "Epoch 19/100\n",
            "310/312 [============================>.] - ETA: 0s - loss: 12.7230\n",
            "Epoch 00019: val_loss did not improve from 24.81711\n",
            "312/312 [==============================] - 2s 6ms/step - loss: 12.6808 - val_loss: 25.8215\n",
            "Epoch 20/100\n",
            "304/312 [============================>.] - ETA: 0s - loss: 12.9470\n",
            "Epoch 00020: val_loss did not improve from 24.81711\n",
            "312/312 [==============================] - 2s 6ms/step - loss: 12.9521 - val_loss: 35.2178\n",
            "Epoch 21/100\n",
            "311/312 [============================>.] - ETA: 0s - loss: 13.4435\n",
            "Epoch 00021: val_loss improved from 24.81711 to 23.71635, saving model to model6.hdf5\n",
            "312/312 [==============================] - 2s 6ms/step - loss: 13.4063 - val_loss: 23.7163\n",
            "Epoch 22/100\n",
            "305/312 [============================>.] - ETA: 0s - loss: 12.8335\n",
            "Epoch 00022: val_loss improved from 23.71635 to 23.32432, saving model to model6.hdf5\n",
            "312/312 [==============================] - 2s 6ms/step - loss: 12.8767 - val_loss: 23.3243\n",
            "Epoch 23/100\n",
            "305/312 [============================>.] - ETA: 0s - loss: 13.6197\n",
            "Epoch 00023: val_loss did not improve from 23.32432\n",
            "312/312 [==============================] - 2s 6ms/step - loss: 13.5686 - val_loss: 23.9949\n",
            "Epoch 24/100\n",
            "305/312 [============================>.] - ETA: 0s - loss: 12.0821\n",
            "Epoch 00024: val_loss did not improve from 23.32432\n",
            "312/312 [==============================] - 2s 6ms/step - loss: 12.2304 - val_loss: 44.0767\n",
            "Epoch 25/100\n",
            "311/312 [============================>.] - ETA: 0s - loss: 13.3155\n",
            "Epoch 00025: val_loss did not improve from 23.32432\n",
            "312/312 [==============================] - 2s 6ms/step - loss: 13.2755 - val_loss: 29.9932\n",
            "Epoch 26/100\n",
            "309/312 [============================>.] - ETA: 0s - loss: 14.8688\n",
            "Epoch 00026: val_loss did not improve from 23.32432\n",
            "312/312 [==============================] - 2s 6ms/step - loss: 14.7579 - val_loss: 28.6883\n",
            "Epoch 27/100\n",
            "310/312 [============================>.] - ETA: 0s - loss: 12.3749\n",
            "Epoch 00027: val_loss did not improve from 23.32432\n",
            "312/312 [==============================] - 2s 6ms/step - loss: 12.4818 - val_loss: 25.3276\n",
            "Epoch 28/100\n",
            "309/312 [============================>.] - ETA: 0s - loss: 15.3577\n",
            "Epoch 00028: val_loss did not improve from 23.32432\n",
            "312/312 [==============================] - 2s 6ms/step - loss: 15.4309 - val_loss: 37.0590\n",
            "Epoch 29/100\n",
            "309/312 [============================>.] - ETA: 0s - loss: 15.2669\n",
            "Epoch 00029: val_loss did not improve from 23.32432\n",
            "312/312 [==============================] - 2s 6ms/step - loss: 15.1269 - val_loss: 23.3372\n",
            "Epoch 30/100\n",
            "310/312 [============================>.] - ETA: 0s - loss: 12.5244\n",
            "Epoch 00030: val_loss did not improve from 23.32432\n",
            "312/312 [==============================] - 2s 6ms/step - loss: 12.5731 - val_loss: 23.6989\n",
            "Epoch 31/100\n",
            "309/312 [============================>.] - ETA: 0s - loss: 12.4583\n",
            "Epoch 00031: val_loss did not improve from 23.32432\n",
            "312/312 [==============================] - 2s 6ms/step - loss: 12.5370 - val_loss: 39.1914\n",
            "Epoch 32/100\n",
            "311/312 [============================>.] - ETA: 0s - loss: 14.0518\n",
            "Epoch 00032: val_loss did not improve from 23.32432\n",
            "312/312 [==============================] - 2s 6ms/step - loss: 14.0068 - val_loss: 23.9321\n"
          ]
        }
      ]
    },
    {
      "cell_type": "code",
      "metadata": {
        "colab": {
          "base_uri": "https://localhost:8080/",
          "height": 350
        },
        "id": "7e-k2iTHgnhh",
        "outputId": "b0d2a197-8d5e-4ccc-b85f-4f46bd753736"
      },
      "source": [
        "history_dict = history.history\n",
        "loss_values = history_dict['loss']\n",
        "val_loss_values = history_dict['val_loss']\n",
        "\n",
        "epochs_x = range(1, len(loss_values) + 1)\n",
        "plt.figure(figsize=(5,5))\n",
        "#plt.subplot(2,1,1)\n",
        "plt.plot(epochs_x, loss_values, 'bo', label='Training loss')\n",
        "plt.plot(epochs_x, val_loss_values, 'b', label='Validation loss')\n",
        "plt.title('Training and validation Loss and Accuracy')\n",
        "plt.xlabel('Epochs')\n",
        "plt.ylabel('Loss')\n",
        "#plt.legend()\n",
        "plt.xlabel('Epochs')\n",
        "plt.ylabel('Acc')\n",
        "plt.legend()\n",
        "plt.show()"
      ],
      "execution_count": 69,
      "outputs": [
        {
          "output_type": "display_data",
          "data": {
            "image/png": "[encoded data removed]",
            "text/plain": [
              "<Figure size 360x360 with 1 Axes>"
            ]
          },
          "metadata": {
            "needs_background": "light"
          }
        }
      ]
    },
    {
      "cell_type": "markdown",
      "metadata": {
        "id": "1k5Ow6aJidWM"
      },
      "source": [
        "# Evaluating the Accuracy"
      ]
    },
    {
      "cell_type": "code",
      "metadata": {
        "id": "hSWIvSB_hQgV"
      },
      "source": [
        "# Load the best model\n",
        "model.load_weights(\"model6.hdf5\")\n",
        "\n",
        "# Predicting some days ahead.\n",
        "test_predictions = []\n",
        "first_eval_batch = train[-length:]\n",
        "current_batch = first_eval_batch.reshape((1, length, 1))\n",
        "for i in range(len(test)):\n",
        "    # get prediction 1 time stamp ahead ([0] is for grabbing just the number instead of [array])\n",
        "    current_pred = model.predict(current_batch)[0]\n",
        "    # store prediction\n",
        "    test_predictions.append(current_pred)\n",
        "    # update batch to now include prediction and drop first value\n",
        "    current_batch = np.append(current_batch[:,1:,:],[[current_pred]],axis=1)\n",
        "#prediction = scaler.inverse_transform(test_predictions)"
      ],
      "execution_count": 70,
      "outputs": []
    },
    {
      "cell_type": "code",
      "metadata": {
        "colab": {
          "base_uri": "https://localhost:8080/",
          "height": 283
        },
        "id": "QKyo-HoWiplF",
        "outputId": "a4f600de-f860-4394-822a-abd58da2da36"
      },
      "source": [
        "# Comparing test data and predictions\n",
        "plt.plot(np.arange(len(train)), train)\n",
        "plt.plot(np.arange(len(train),len(train)+len(test)),test)\n",
        "plt.plot(np.arange(len(train),len(train)+len(test)),test_predictions)"
      ],
      "execution_count": 71,
      "outputs": [
        {
          "output_type": "execute_result",
          "data": {
            "text/plain": [
              "[<matplotlib.lines.Line2D at 0x7f1f11a187d0>]"
            ]
          },
          "metadata": {},
          "execution_count": 71
        },
        {
          "output_type": "display_data",
          "data": {
            "image/png": "[encoded data removed]",
            "text/plain": [
              "<Figure size 432x288 with 1 Axes>"
            ]
          },
          "metadata": {
            "needs_background": "light"
          }
        }
      ]
    },
    {
      "cell_type": "code",
      "metadata": {
        "colab": {
          "base_uri": "https://localhost:8080/"
        },
        "id": "EpBcXfHDi4O1",
        "outputId": "cb4d2cf2-ac65-486e-fef0-81e618706578"
      },
      "source": [
        "# Calculating the mean squared error\n",
        "mse = np.mean(np.square(test[:,0] - np.array(test_predictions)[:,0]), axis=-1)\n",
        "loss = np.sqrt(mse)\n",
        "print(\"mse: \"+str(loss))"
      ],
      "execution_count": 74,
      "outputs": [
        {
          "output_type": "stream",
          "name": "stdout",
          "text": [
            "mse: 11.028026586211753\n"
          ]
        }
      ]
    },
    {
      "cell_type": "code",
      "metadata": {
        "id": "FKJt_dX1jHq5"
      },
      "source": [
        ""
      ],
      "execution_count": null,
      "outputs": []
    }
  ]
}